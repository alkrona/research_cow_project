{
 "cells": [
  {
   "cell_type": "code",
   "execution_count": 2,
   "metadata": {},
   "outputs": [],
   "source": [
    "from skimage import io\n",
    "\n",
    "image = io.imread('image_files/0000.jpg')"
   ]
  },
  {
   "cell_type": "code",
   "execution_count": 6,
   "metadata": {},
   "outputs": [],
   "source": [
    "from skimage.color import rgb2gray\n",
    "from skimage.filters import threshold_otsu\n",
    "import numpy as np\n",
    "\n",
    "gray_image = rgb2gray(image)\n",
    "\n",
    "# Example for extracting a mask for a specific color\n",
    "mask_color = np.all(image == [0, 255, 0], axis=-1)  # Replace r, g, b with the RGB values of the color\n"
   ]
  },
  {
   "cell_type": "code",
   "execution_count": 7,
   "metadata": {},
   "outputs": [
    {
     "name": "stderr",
     "output_type": "stream",
     "text": [
      "/var/folders/74/9tpvyg253_d1_06tsh3c83900000gn/T/ipykernel_42266/2622380087.py:3: UserWarning: mask_1.png is a low contrast image\n",
      "  io.imsave('mask_1.png', img_as_ubyte(mask_color))\n"
     ]
    }
   ],
   "source": [
    "from skimage import img_as_ubyte\n",
    "\n",
    "io.imsave('mask_1.png', img_as_ubyte(mask_color))"
   ]
  },
  {
   "cell_type": "code",
   "execution_count": 16,
   "metadata": {},
   "outputs": [
    {
     "name": "stdout",
     "output_type": "stream",
     "text": [
      "(540, 960)\n"
     ]
    }
   ],
   "source": [
    "from PIL import Image\n",
    "import numpy as np \n",
    "\n",
    "img = Image.open(\"frame_3885.jpg\")\n",
    "numpy_array = np.array(img)\n",
    "print(numpy_array.shape)"
   ]
  },
  {
   "cell_type": "code",
   "execution_count": 19,
   "metadata": {},
   "outputs": [
    {
     "data": {
      "text/plain": [
       "(518400,)"
      ]
     },
     "execution_count": 19,
     "metadata": {},
     "output_type": "execute_result"
    }
   ],
   "source": [
    "numpy_array = numpy_array.flatten()\n",
    "numpy_array.shape"
   ]
  },
  {
   "cell_type": "code",
   "execution_count": 21,
   "metadata": {},
   "outputs": [
    {
     "name": "stdout",
     "output_type": "stream",
     "text": [
      "Collecting matplotlib\n",
      "  Using cached matplotlib-3.8.3-cp310-cp310-macosx_11_0_arm64.whl.metadata (5.8 kB)\n",
      "Collecting contourpy>=1.0.1 (from matplotlib)\n",
      "  Using cached contourpy-1.2.0-cp310-cp310-macosx_11_0_arm64.whl.metadata (5.8 kB)\n",
      "Collecting cycler>=0.10 (from matplotlib)\n",
      "  Using cached cycler-0.12.1-py3-none-any.whl.metadata (3.8 kB)\n",
      "Collecting fonttools>=4.22.0 (from matplotlib)\n",
      "  Downloading fonttools-4.50.0-cp310-cp310-macosx_10_9_universal2.whl.metadata (159 kB)\n",
      "\u001b[2K     \u001b[90m━━━━━━━━━━━━━━━━━━━━━━━━━━━━━━━━━━━━━━━\u001b[0m \u001b[32m159.4/159.4 kB\u001b[0m \u001b[31m7.8 MB/s\u001b[0m eta \u001b[36m0:00:00\u001b[0m\n",
      "\u001b[?25hCollecting kiwisolver>=1.3.1 (from matplotlib)\n",
      "  Using cached kiwisolver-1.4.5-cp310-cp310-macosx_11_0_arm64.whl.metadata (6.4 kB)\n",
      "Requirement already satisfied: numpy<2,>=1.21 in ./venv/lib/python3.10/site-packages (from matplotlib) (1.26.4)\n",
      "Requirement already satisfied: packaging>=20.0 in ./venv/lib/python3.10/site-packages (from matplotlib) (24.0)\n",
      "Requirement already satisfied: pillow>=8 in ./venv/lib/python3.10/site-packages (from matplotlib) (10.2.0)\n",
      "Collecting pyparsing>=2.3.1 (from matplotlib)\n",
      "  Using cached pyparsing-3.1.2-py3-none-any.whl.metadata (5.1 kB)\n",
      "Requirement already satisfied: python-dateutil>=2.7 in ./venv/lib/python3.10/site-packages (from matplotlib) (2.9.0.post0)\n",
      "Requirement already satisfied: six>=1.5 in ./venv/lib/python3.10/site-packages (from python-dateutil>=2.7->matplotlib) (1.16.0)\n",
      "Using cached matplotlib-3.8.3-cp310-cp310-macosx_11_0_arm64.whl (7.5 MB)\n",
      "Using cached contourpy-1.2.0-cp310-cp310-macosx_11_0_arm64.whl (242 kB)\n",
      "Using cached cycler-0.12.1-py3-none-any.whl (8.3 kB)\n",
      "Downloading fonttools-4.50.0-cp310-cp310-macosx_10_9_universal2.whl (2.8 MB)\n",
      "\u001b[2K   \u001b[90m━━━━━━━━━━━━━━━━━━━━━━━━━━━━━━━━━━━━━━━━\u001b[0m \u001b[32m2.8/2.8 MB\u001b[0m \u001b[31m25.9 MB/s\u001b[0m eta \u001b[36m0:00:00\u001b[0ma \u001b[36m0:00:01\u001b[0m\n",
      "\u001b[?25hUsing cached kiwisolver-1.4.5-cp310-cp310-macosx_11_0_arm64.whl (66 kB)\n",
      "Using cached pyparsing-3.1.2-py3-none-any.whl (103 kB)\n",
      "Installing collected packages: pyparsing, kiwisolver, fonttools, cycler, contourpy, matplotlib\n",
      "Successfully installed contourpy-1.2.0 cycler-0.12.1 fonttools-4.50.0 kiwisolver-1.4.5 matplotlib-3.8.3 pyparsing-3.1.2\n",
      "Note: you may need to restart the kernel to use updated packages.\n"
     ]
    }
   ],
   "source": [
    "%pip install matplotlib\n"
   ]
  },
  {
   "cell_type": "code",
   "execution_count": 22,
   "metadata": {},
   "outputs": [],
   "source": [
    "import matplotlib.pyplot as plt"
   ]
  },
  {
   "cell_type": "code",
   "execution_count": 20,
   "metadata": {},
   "outputs": [
    {
     "data": {
      "text/plain": [
       "(array([398702,   3876,   1456,    675,   1108,    445,   3592,    357,\n",
       "           164,    665,   5077,   1129,   1096,  16128,  14604,  16614,\n",
       "          3735,   8055,   1016,   5664,   7168,   1021,   4069,    624,\n",
       "           415,    478,  16758,    569,   2792,    198,     88,     41,\n",
       "            13,      8]),\n",
       " array([ 0.,  1.,  2.,  3.,  4.,  5.,  6.,  7.,  8.,  9., 10., 11., 12.,\n",
       "        13., 14., 15., 16., 17., 18., 19., 20., 21., 22., 23., 24., 25.,\n",
       "        26., 27., 28., 29., 30., 31., 32., 33., 34.]))"
      ]
     },
     "execution_count": 20,
     "metadata": {},
     "output_type": "execute_result"
    }
   ],
   "source": [
    "\n",
    "np.histogram(numpy_array,bins=34)"
   ]
  },
  {
   "cell_type": "code",
   "execution_count": null,
   "metadata": {},
   "outputs": [],
   "source": []
  },
  {
   "cell_type": "code",
   "execution_count": 23,
   "metadata": {},
   "outputs": [
    {
     "name": "stdout",
     "output_type": "stream",
     "text": [
      "(540, 960)\n"
     ]
    }
   ],
   "source": [
    "from PIL import Image\n",
    "import numpy as np \n",
    "\n",
    "img = Image.open(\"frame_0.jpg\")\n",
    "numpy_array = np.array(img)\n",
    "print(numpy_array.shape)"
   ]
  },
  {
   "cell_type": "code",
   "execution_count": 24,
   "metadata": {},
   "outputs": [
    {
     "data": {
      "text/plain": [
       "(518400,)"
      ]
     },
     "execution_count": 24,
     "metadata": {},
     "output_type": "execute_result"
    }
   ],
   "source": [
    "numpy_array = numpy_array.flatten()\n",
    "numpy_array.shape"
   ]
  },
  {
   "cell_type": "code",
   "execution_count": 29,
   "metadata": {},
   "outputs": [
    {
     "data": {
      "text/plain": [
       "(array([307809,   8809,   3023,   1387,   2382,   4450,   2327,  12811,\n",
       "         13832,   2224,   6161,   3836,   3721,  15589,  24646,  23258,\n",
       "          8176,  16018,   4979,   6633,   2893,   1529,   3597,   1611,\n",
       "          1160,   2919,   2070,   1413,  25442,   3003,    389,    193,\n",
       "            66,     36,      5,      3]),\n",
       " array([ 0.        ,  0.97222222,  1.94444444,  2.91666667,  3.88888889,\n",
       "         4.86111111,  5.83333333,  6.80555556,  7.77777778,  8.75      ,\n",
       "         9.72222222, 10.69444444, 11.66666667, 12.63888889, 13.61111111,\n",
       "        14.58333333, 15.55555556, 16.52777778, 17.5       , 18.47222222,\n",
       "        19.44444444, 20.41666667, 21.38888889, 22.36111111, 23.33333333,\n",
       "        24.30555556, 25.27777778, 26.25      , 27.22222222, 28.19444444,\n",
       "        29.16666667, 30.13888889, 31.11111111, 32.08333333, 33.05555556,\n",
       "        34.02777778, 35.        ]))"
      ]
     },
     "execution_count": 29,
     "metadata": {},
     "output_type": "execute_result"
    }
   ],
   "source": [
    "\n",
    "np.histogram(numpy_array,bins=36)"
   ]
  },
  {
   "cell_type": "code",
   "execution_count": 28,
   "metadata": {},
   "outputs": [
    {
     "data": {
      "text/plain": [
       "36"
      ]
     },
     "execution_count": 28,
     "metadata": {},
     "output_type": "execute_result"
    }
   ],
   "source": [
    "len(np.unique(numpy_array))\n"
   ]
  },
  {
   "cell_type": "code",
   "execution_count": 39,
   "metadata": {},
   "outputs": [
    {
     "data": {
      "text/plain": [
       "array([307809,   8809,   3023,   1387,   2382,   4450,   2327,  12811,\n",
       "        13832,   2224,   6161,   3836,   3721,  15589,  24646,  23258,\n",
       "         8176,  16018,   4979,   6633,   2893,   1529,   3597,   1611,\n",
       "         1160,   2919,   2070,   1413,  25442,   3003,    389,    193,\n",
       "           66,     36,      5,      3])"
      ]
     },
     "execution_count": 39,
     "metadata": {},
     "output_type": "execute_result"
    }
   ],
   "source": [
    "new_array = np.histogram(numpy_array,bins=36)[0]\n",
    "new_array"
   ]
  },
  {
   "cell_type": "code",
   "execution_count": 40,
   "metadata": {},
   "outputs": [
    {
     "data": {
      "text/plain": [
       "array([5.93767361e+01, 1.69926698e+00, 5.83140432e-01, 2.67554012e-01,\n",
       "       4.59490741e-01, 8.58410494e-01, 4.48881173e-01, 2.47125772e+00,\n",
       "       2.66820988e+00, 4.29012346e-01, 1.18846451e+00, 7.39969136e-01,\n",
       "       7.17785494e-01, 3.00713735e+00, 4.75424383e+00, 4.48649691e+00,\n",
       "       1.57716049e+00, 3.08989198e+00, 9.60455247e-01, 1.27951389e+00,\n",
       "       5.58063272e-01, 2.94945988e-01, 6.93865741e-01, 3.10763889e-01,\n",
       "       2.23765432e-01, 5.63078704e-01, 3.99305556e-01, 2.72569444e-01,\n",
       "       4.90779321e+00, 5.79282407e-01, 7.50385802e-02, 3.72299383e-02,\n",
       "       1.27314815e-02, 6.94444444e-03, 9.64506173e-04, 5.78703704e-04])"
      ]
     },
     "execution_count": 40,
     "metadata": {},
     "output_type": "execute_result"
    }
   ],
   "source": [
    "new_array=np.divide(new_array,518400)\n",
    "new_array= np.multiply(new_array,100)\n",
    "new_array"
   ]
  },
  {
   "cell_type": "code",
   "execution_count": null,
   "metadata": {},
   "outputs": [],
   "source": [
    "from PIL import Image\n",
    "import numpy as np \n",
    "\n",
    "img = Image.open(\"frame_0.jpg\")\n",
    "numpy_array = np.array(img)\n",
    "print(numpy_array.shape)"
   ]
  },
  {
   "cell_type": "code",
   "execution_count": 48,
   "metadata": {},
   "outputs": [],
   "source": [
    "def populaton_percentage_array(image_path:str):\n",
    "    img = Image.open(image_path)\n",
    "    numpy_array=np.array(img)\n",
    "    numpy_array = numpy_array.flatten()\n",
    "    size = numpy_array.shape[0]\n",
    "    n_bins=len(np.unique(numpy_array))\n",
    "    new_array = np.histogram(numpy_array,bins=n_bins)[0]\n",
    "    new_array=np.divide(new_array,size)\n",
    "    array_test= np.multiply(new_array,100)\n",
    "    array_test = array_test[array_test>2e-01]\n",
    "    return (len(array_test))"
   ]
  },
  {
   "cell_type": "code",
   "execution_count": 49,
   "metadata": {},
   "outputs": [],
   "source": [
    "array_test=populaton_percentage_array('frame_3885.jpg')"
   ]
  },
  {
   "cell_type": "code",
   "execution_count": 52,
   "metadata": {},
   "outputs": [
    {
     "data": {
      "text/plain": [
       "array([76.91010802,  0.74768519,  0.2808642 ,  0.21373457,  0.69290123,\n",
       "        0.97935957,  0.21778549,  0.21141975,  3.11111111,  2.81712963,\n",
       "        3.20486111,  0.72048611,  1.55381944,  1.09259259,  1.38271605,\n",
       "        0.78491512,  3.23263889,  0.53858025])"
      ]
     },
     "execution_count": 52,
     "metadata": {},
     "output_type": "execute_result"
    }
   ],
   "source": [
    "array_test = array_test[array_test>2e-01]\n",
    "array_test"
   ]
  },
  {
   "cell_type": "code",
   "execution_count": 53,
   "metadata": {},
   "outputs": [
    {
     "name": "stdout",
     "output_type": "stream",
     "text": [
      "18\n"
     ]
    }
   ],
   "source": [
    "print(len(array_test))"
   ]
  }
 ],
 "metadata": {
  "kernelspec": {
   "display_name": "venv",
   "language": "python",
   "name": "python3"
  },
  "language_info": {
   "codemirror_mode": {
    "name": "ipython",
    "version": 3
   },
   "file_extension": ".py",
   "mimetype": "text/x-python",
   "name": "python",
   "nbconvert_exporter": "python",
   "pygments_lexer": "ipython3",
   "version": "3.10.13"
  }
 },
 "nbformat": 4,
 "nbformat_minor": 2
}
